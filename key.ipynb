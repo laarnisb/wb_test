{
 "cells": [
  {
   "cell_type": "code",
   "execution_count": 1,
   "id": "79fd49a1",
   "metadata": {},
   "outputs": [
    {
     "name": "stdout",
     "output_type": "stream",
     "text": [
      "-CXlcQeELO-lUIOn2cNQ1cBPvGOXAjFoOLUEEMqZY2w=\n"
     ]
    }
   ],
   "source": [
    "from cryptography.fernet import Fernet\n",
    "print(Fernet.generate_key().decode())"
   ]
  },
  {
   "cell_type": "code",
   "execution_count": 2,
   "id": "d91e7e8b",
   "metadata": {},
   "outputs": [
    {
     "name": "stdout",
     "output_type": "stream",
     "text": [
      "S0zzOdlPGc6Q0j39tQV0WjNZxKEJQV_VTfxzGbVwAJs=\n"
     ]
    }
   ],
   "source": [
    "from cryptography.fernet import Fernet\n",
    "key = Fernet.generate_key()\n",
    "print(key.decode())"
   ]
  },
  {
   "cell_type": "code",
   "execution_count": 3,
   "id": "4a005620",
   "metadata": {},
   "outputs": [
    {
     "ename": "SyntaxError",
     "evalue": "invalid syntax (3298308512.py, line 1)",
     "output_type": "error",
     "traceback": [
      "\u001b[1;36m  File \u001b[1;32m\"C:\\Users\\laarn\\AppData\\Local\\Temp\\ipykernel_15760\\3298308512.py\"\u001b[1;36m, line \u001b[1;32m1\u001b[0m\n\u001b[1;33m    postgresql://DB_USER:DB_PASSWORD@DB_HOST:DB_PORT/DB_NAME\u001b[0m\n\u001b[1;37m               ^\u001b[0m\n\u001b[1;31mSyntaxError\u001b[0m\u001b[1;31m:\u001b[0m invalid syntax\n"
     ]
    }
   ],
   "source": [
    "postgresql://DB_USER:DB_PASSWORD@DB_HOST:DB_PORT/DB_NAME"
   ]
  },
  {
   "cell_type": "code",
   "execution_count": 1,
   "id": "4b2e13a9",
   "metadata": {},
   "outputs": [
    {
     "name": "stdout",
     "output_type": "stream",
     "text": [
      "Fmt2Saw2bMXfBaU9XTzjhsdb-UrXKgv80-qWxbEw7lE=\n"
     ]
    }
   ],
   "source": [
    "from cryptography.fernet import Fernet; print(Fernet.generate_key().decode())"
   ]
  },
  {
   "cell_type": "code",
   "execution_count": null,
   "id": "b09d645f",
   "metadata": {},
   "outputs": [],
   "source": []
  }
 ],
 "metadata": {
  "kernelspec": {
   "display_name": "Python 3 (ipykernel)",
   "language": "python",
   "name": "python3"
  },
  "language_info": {
   "codemirror_mode": {
    "name": "ipython",
    "version": 3
   },
   "file_extension": ".py",
   "mimetype": "text/x-python",
   "name": "python",
   "nbconvert_exporter": "python",
   "pygments_lexer": "ipython3",
   "version": "3.9.13"
  }
 },
 "nbformat": 4,
 "nbformat_minor": 5
}
